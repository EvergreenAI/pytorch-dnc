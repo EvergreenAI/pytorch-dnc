{
 "cells": [
  {
   "cell_type": "code",
   "execution_count": 2,
   "metadata": {},
   "outputs": [],
   "source": [
    "import warnings\n",
    "warnings.filterwarnings('ignore')\n",
    "\n",
    "import numpy as np\n",
    "import getopt\n",
    "import sys\n",
    "import os\n",
    "import math\n",
    "import time\n",
    "import argparse\n",
    "from visdom import Visdom\n",
    "\n",
    "sys.path.insert(0, os.path.join('..', '..'))\n",
    "\n",
    "import torch as T\n",
    "import torch.nn.functional as F\n",
    "import torch.optim as optim\n",
    "\n",
    "from torch.nn.utils import clip_grad_norm\n",
    "\n",
    "from dnc.dnc import DNC\n",
    "# from dnc.dnc_onestep import DNC\n",
    "from dnc.sdnc import SDNC\n",
    "from dnc.sam import SAM\n",
    "from dnc.util import *"
   ]
  },
  {
   "cell_type": "code",
   "execution_count": 3,
   "metadata": {},
   "outputs": [
    {
     "name": "stdout",
     "output_type": "stream",
     "text": [
      "Using CUDA.\n"
     ]
    },
    {
     "data": {
      "text/plain": [
       "<torch._C.Generator at 0x7f4879d2fb70>"
      ]
     },
     "execution_count": 3,
     "metadata": {},
     "output_type": "execute_result"
    }
   ],
   "source": [
    "print('Using CUDA.')\n",
    "T.manual_seed(1111)"
   ]
  },
  {
   "cell_type": "code",
   "execution_count": 4,
   "metadata": {},
   "outputs": [],
   "source": [
    "def llprint(message):\n",
    "  sys.stdout.write(message)\n",
    "  sys.stdout.flush()"
   ]
  },
  {
   "cell_type": "code",
   "execution_count": 5,
   "metadata": {},
   "outputs": [],
   "source": [
    "def generate_data(batch_size, length, size, cuda=-1):\n",
    "\n",
    "  input_data = np.zeros((batch_size, 2 * length + 1, size), dtype=np.float32)\n",
    "  target_output = np.zeros((batch_size, 2 * length + 1, size), dtype=np.float32)\n",
    "\n",
    "  sequence = np.random.binomial(1, 0.5, (batch_size, length, size - 1))\n",
    "\n",
    "  input_data[:, :length, :size - 1] = sequence\n",
    "  input_data[:, length, -1] = 1  # the end symbol\n",
    "  target_output[:, length + 1:, :size - 1] = sequence\n",
    "\n",
    "  input_data = T.from_numpy(input_data)\n",
    "  target_output = T.from_numpy(target_output)\n",
    "  if cuda != -1:\n",
    "    input_data = input_data.cuda()\n",
    "    target_output = target_output.cuda()\n",
    "\n",
    "  return input_data, target_output\n",
    "\n"
   ]
  },
  {
   "cell_type": "code",
   "execution_count": 6,
   "metadata": {},
   "outputs": [],
   "source": [
    "def criterion(predictions, targets):\n",
    "  return T.mean(\n",
    "      -1 * F.logsigmoid(predictions) * (targets) - T.log(1 - F.sigmoid(predictions) + 1e-9) * (1 - targets)\n",
    "  )\n",
    "\n"
   ]
  },
  {
   "cell_type": "code",
   "execution_count": 7,
   "metadata": {},
   "outputs": [],
   "source": [
    "batch_size = 1000\n",
    "sequence_max_length = 8\n",
    "summarize_freq = 1000\n",
    "check_freq = 1000\n",
    "\n"
   ]
  },
  {
   "cell_type": "code",
   "execution_count": 8,
   "metadata": {},
   "outputs": [],
   "source": [
    "mem_slot = 32\n",
    "mem_size = 20\n",
    "read_heads = 4\n",
    "\n"
   ]
  },
  {
   "cell_type": "code",
   "execution_count": 10,
   "metadata": {},
   "outputs": [],
   "source": [
    "rnn = DNC(\n",
    "    input_size=6,\n",
    "    hidden_size=64,\n",
    "    rnn_type='lstm',\n",
    "    num_layers=1,\n",
    "    num_hidden_layers=2,\n",
    "    dropout=0,\n",
    "    nr_cells=mem_slot,\n",
    "    cell_size=mem_size,\n",
    "    read_heads=read_heads,\n",
    "    gpu_id=0,\n",
    "    debug=True,\n",
    "    batch_first=True,\n",
    "    independent_linears=True\n",
    ")"
   ]
  },
  {
   "cell_type": "code",
   "execution_count": 12,
   "metadata": {},
   "outputs": [
    {
     "data": {
      "text/plain": [
       "\n",
       "----------------------------------------\n",
       "DNC(6, 64, nr_cells=32, read_heads=4, cell_size=20, gpu_id=0, independent_linears=True, debug=True)\n",
       "DNC(\n",
       "  (lstm_layer_0): LSTM(86, 64, num_layers=2, batch_first=True)\n",
       "  (rnn_layer_memory_shared): Memory(\n",
       "    (read_keys_transform): Linear(in_features=64, out_features=80, bias=True)\n",
       "    (read_strengths_transform): Linear(in_features=64, out_features=4, bias=True)\n",
       "    (write_key_transform): Linear(in_features=64, out_features=20, bias=True)\n",
       "    (write_strength_transform): Linear(in_features=64, out_features=1, bias=True)\n",
       "    (erase_vector_transform): Linear(in_features=64, out_features=20, bias=True)\n",
       "    (write_vector_transform): Linear(in_features=64, out_features=20, bias=True)\n",
       "    (free_gates_transform): Linear(in_features=64, out_features=4, bias=True)\n",
       "    (allocation_gate_transform): Linear(in_features=64, out_features=1, bias=True)\n",
       "    (write_gate_transform): Linear(in_features=64, out_features=1, bias=True)\n",
       "    (read_modes_transform): Linear(in_features=64, out_features=12, bias=True)\n",
       "  )\n",
       "  (output): Linear(in_features=144, out_features=6, bias=True)\n",
       ")\n",
       "----------------------------------------"
      ]
     },
     "execution_count": 12,
     "metadata": {},
     "output_type": "execute_result"
    }
   ],
   "source": [
    "rnn.load_state_dict(T.load('tasks/checkpoints-copy_task-orig/step_50000.pth'))\n",
    "rnn\n"
   ]
  },
  {
   "cell_type": "code",
   "execution_count": 13,
   "metadata": {},
   "outputs": [],
   "source": [
    "rnn = rnn.cuda(0)"
   ]
  },
  {
   "cell_type": "code",
   "execution_count": 14,
   "metadata": {},
   "outputs": [],
   "source": [
    "(chx, mhx, rv) = (None, None, None)"
   ]
  },
  {
   "cell_type": "code",
   "execution_count": 15,
   "metadata": {},
   "outputs": [],
   "source": [
    "episode = 0"
   ]
  },
  {
   "cell_type": "code",
   "execution_count": 21,
   "metadata": {},
   "outputs": [
    {
     "data": {
      "text/plain": [
       "15"
      ]
     },
     "execution_count": 21,
     "metadata": {},
     "output_type": "execute_result"
    }
   ],
   "source": [
    "random_length = np.random.randint(2, sequence_max_length * 10 + 1)\n",
    "random_length"
   ]
  },
  {
   "cell_type": "code",
   "execution_count": 23,
   "metadata": {},
   "outputs": [
    {
     "data": {
      "text/plain": [
       "(torch.Size([1000, 31, 6]), torch.Size([1000, 31, 6]))"
      ]
     },
     "execution_count": 23,
     "metadata": {},
     "output_type": "execute_result"
    }
   ],
   "source": [
    "input_data, target_output = generate_data(batch_size, random_length, 6, cuda=0)\n",
    "input_data.shape, target_output.shape"
   ]
  },
  {
   "cell_type": "code",
   "execution_count": 25,
   "metadata": {},
   "outputs": [
    {
     "data": {
      "text/plain": [
       "(tensor([[ 1.,  0.,  0.,  0.,  1.,  0.],\n",
       "         [ 1.,  0.,  1.,  0.,  1.,  0.],\n",
       "         [ 1.,  0.,  1.,  0.,  1.,  0.],\n",
       "         [ 0.,  0.,  1.,  1.,  0.,  0.],\n",
       "         [ 0.,  1.,  1.,  0.,  0.,  0.],\n",
       "         [ 0.,  1.,  0.,  1.,  1.,  0.],\n",
       "         [ 0.,  1.,  1.,  0.,  0.,  0.],\n",
       "         [ 1.,  0.,  1.,  0.,  0.,  0.],\n",
       "         [ 0.,  1.,  1.,  1.,  0.,  0.],\n",
       "         [ 1.,  0.,  1.,  0.,  1.,  0.],\n",
       "         [ 0.,  1.,  0.,  0.,  0.,  0.],\n",
       "         [ 1.,  0.,  0.,  1.,  1.,  0.],\n",
       "         [ 1.,  1.,  1.,  1.,  0.,  0.],\n",
       "         [ 1.,  1.,  1.,  0.,  0.,  0.],\n",
       "         [ 0.,  0.,  0.,  1.,  0.,  0.],\n",
       "         [ 0.,  0.,  0.,  0.,  0.,  1.],\n",
       "         [ 0.,  0.,  0.,  0.,  0.,  0.],\n",
       "         [ 0.,  0.,  0.,  0.,  0.,  0.],\n",
       "         [ 0.,  0.,  0.,  0.,  0.,  0.],\n",
       "         [ 0.,  0.,  0.,  0.,  0.,  0.],\n",
       "         [ 0.,  0.,  0.,  0.,  0.,  0.],\n",
       "         [ 0.,  0.,  0.,  0.,  0.,  0.],\n",
       "         [ 0.,  0.,  0.,  0.,  0.,  0.],\n",
       "         [ 0.,  0.,  0.,  0.,  0.,  0.],\n",
       "         [ 0.,  0.,  0.,  0.,  0.,  0.],\n",
       "         [ 0.,  0.,  0.,  0.,  0.,  0.],\n",
       "         [ 0.,  0.,  0.,  0.,  0.,  0.],\n",
       "         [ 0.,  0.,  0.,  0.,  0.,  0.],\n",
       "         [ 0.,  0.,  0.,  0.,  0.,  0.],\n",
       "         [ 0.,  0.,  0.,  0.,  0.,  0.],\n",
       "         [ 0.,  0.,  0.,  0.,  0.,  0.]], device='cuda:0'),\n",
       " tensor([[ 0.,  0.,  0.,  0.,  0.,  0.],\n",
       "         [ 0.,  0.,  0.,  0.,  0.,  0.],\n",
       "         [ 0.,  0.,  0.,  0.,  0.,  0.],\n",
       "         [ 0.,  0.,  0.,  0.,  0.,  0.],\n",
       "         [ 0.,  0.,  0.,  0.,  0.,  0.],\n",
       "         [ 0.,  0.,  0.,  0.,  0.,  0.],\n",
       "         [ 0.,  0.,  0.,  0.,  0.,  0.],\n",
       "         [ 0.,  0.,  0.,  0.,  0.,  0.],\n",
       "         [ 0.,  0.,  0.,  0.,  0.,  0.],\n",
       "         [ 0.,  0.,  0.,  0.,  0.,  0.],\n",
       "         [ 0.,  0.,  0.,  0.,  0.,  0.],\n",
       "         [ 0.,  0.,  0.,  0.,  0.,  0.],\n",
       "         [ 0.,  0.,  0.,  0.,  0.,  0.],\n",
       "         [ 0.,  0.,  0.,  0.,  0.,  0.],\n",
       "         [ 0.,  0.,  0.,  0.,  0.,  0.],\n",
       "         [ 0.,  0.,  0.,  0.,  0.,  0.],\n",
       "         [ 1.,  0.,  0.,  0.,  1.,  0.],\n",
       "         [ 1.,  0.,  1.,  0.,  1.,  0.],\n",
       "         [ 1.,  0.,  1.,  0.,  1.,  0.],\n",
       "         [ 0.,  0.,  1.,  1.,  0.,  0.],\n",
       "         [ 0.,  1.,  1.,  0.,  0.,  0.],\n",
       "         [ 0.,  1.,  0.,  1.,  1.,  0.],\n",
       "         [ 0.,  1.,  1.,  0.,  0.,  0.],\n",
       "         [ 1.,  0.,  1.,  0.,  0.,  0.],\n",
       "         [ 0.,  1.,  1.,  1.,  0.,  0.],\n",
       "         [ 1.,  0.,  1.,  0.,  1.,  0.],\n",
       "         [ 0.,  1.,  0.,  0.,  0.,  0.],\n",
       "         [ 1.,  0.,  0.,  1.,  1.,  0.],\n",
       "         [ 1.,  1.,  1.,  1.,  0.,  0.],\n",
       "         [ 1.,  1.,  1.,  0.,  0.,  0.],\n",
       "         [ 0.,  0.,  0.,  1.,  0.,  0.]], device='cuda:0'))"
      ]
     },
     "execution_count": 25,
     "metadata": {},
     "output_type": "execute_result"
    }
   ],
   "source": [
    "input_data[0], target_output[0]"
   ]
  },
  {
   "cell_type": "code",
   "execution_count": 37,
   "metadata": {},
   "outputs": [],
   "source": [
    "output, (chx, mhx, rv), v = rnn(input_data, (None, mhx, None), reset_experience=True, pass_through_memory=True)"
   ]
  },
  {
   "cell_type": "code",
   "execution_count": 38,
   "metadata": {},
   "outputs": [
    {
     "data": {
      "text/plain": [
       "tensor([[ -16.7606,  -15.7395,  -17.2287,  -14.3579,  -16.8323,  -21.9962],\n",
       "        [ -16.3848,  -20.5330,  -19.3951,  -20.1100,  -14.8128,  -23.2239],\n",
       "        [ -14.0810,  -26.4513,  -23.2439,  -26.6160,  -14.2446,  -30.1106],\n",
       "        [ -14.2872,  -43.2289,  -32.1782,  -33.3578,  -17.7548,  -33.2355],\n",
       "        [ -19.3213,  -69.1205,  -34.9039,  -36.7295,  -16.2291,  -41.7544],\n",
       "        [ -21.0075, -105.7913,  -34.4209,  -37.3907,  -16.5965,  -53.6457],\n",
       "        [ -19.8645, -161.2542,  -34.8723,  -38.7774,  -16.4353,  -72.3119],\n",
       "        [ -19.7948, -237.2785,  -33.6203,  -38.4434,  -13.8225,  -98.6356],\n",
       "        [ -18.7038, -346.7560,  -28.6072,  -35.8865,   -8.0903, -136.3735],\n",
       "        [ -17.1497, -473.3772,  -21.4423,  -33.7344,   -0.2581, -181.0646],\n",
       "        [ -15.3055, -432.3839,  -10.1317,  -29.1541,    4.8983, -173.8820],\n",
       "        [ -15.3050, -229.6639,  -14.4427,  -18.8404,    5.9616, -111.4837],\n",
       "        [ -10.9371,  -31.0061,    1.2765,   -4.2735,  -12.4762,  -47.9677],\n",
       "        [  -1.8499,    8.1195,    2.3894,   -3.9578,    7.9943,  -39.2262],\n",
       "        [   7.8804,   14.1991,   14.4954,    5.1192,    2.2293,  -36.4788],\n",
       "        [ -11.5496,   -1.6022,    2.5112,  -23.8499,  -18.8028,  -47.2653],\n",
       "        [  25.6844,   22.8882,   30.1188,    9.4684,   22.1035,  -24.4965],\n",
       "        [  21.0812,   12.6409,   18.7634,   11.0423,   -1.6654,  -26.3612],\n",
       "        [   1.7721,    2.9099,  -10.2304,    7.4747,   -2.2637,  -35.3778],\n",
       "        [  -0.9330,   -4.7633,   16.7890,   -7.3175,    2.6596,  -35.2594],\n",
       "        [  -9.2881,    1.9812,  -10.9053,   -2.0133,  -15.7776,  -33.1312],\n",
       "        [ -16.5131,  -11.7886,    0.2368,   -3.7684,  -15.3521,  -31.3286],\n",
       "        [ -19.0986,  -19.1556,  -11.9411,  -17.1095,  -13.3754,  -30.7129],\n",
       "        [ -19.8531,  -36.8357,  -19.4557,  -31.9859,  -18.8259,  -30.7939],\n",
       "        [ -29.5707,  -62.1265,  -32.9393,  -40.4695,  -29.9643,  -40.0892],\n",
       "        [ -34.1518,  -94.2011,  -43.4630,  -46.8640,  -34.6578,  -49.1611],\n",
       "        [ -33.6611, -129.4456,  -45.6752,  -48.7903,  -34.3574,  -57.9284],\n",
       "        [ -33.2023, -169.3409,  -46.4772,  -51.0391,  -35.0525,  -71.8627],\n",
       "        [ -32.4355, -207.2435,  -45.9420,  -54.5012,  -36.4414,  -88.8198],\n",
       "        [ -29.1614, -261.4465,  -41.3475,  -50.0600,  -34.7831, -104.1373],\n",
       "        [ -19.6206, -141.5551,  -29.5444,  -42.0768,  -20.4755,  -74.5641]], device='cuda:0')"
      ]
     },
     "execution_count": 38,
     "metadata": {},
     "output_type": "execute_result"
    }
   ],
   "source": [
    "output[0]"
   ]
  },
  {
   "cell_type": "code",
   "execution_count": 47,
   "metadata": {},
   "outputs": [
    {
     "data": {
      "text/plain": [
       "array(nan, dtype=float32)"
      ]
     },
     "execution_count": 47,
     "metadata": {},
     "output_type": "execute_result"
    }
   ],
   "source": [
    "output.sum().data.cpu().numpy()\n"
   ]
  },
  {
   "cell_type": "code",
   "execution_count": null,
   "metadata": {},
   "outputs": [],
   "source": []
  }
 ],
 "metadata": {
  "kernelspec": {
   "display_name": "dnc-pytorch",
   "language": "python",
   "name": "dnc-pytorch"
  },
  "language_info": {
   "codemirror_mode": {
    "name": "ipython",
    "version": 3
   },
   "file_extension": ".py",
   "mimetype": "text/x-python",
   "name": "python",
   "nbconvert_exporter": "python",
   "pygments_lexer": "ipython3",
   "version": "3.6.5"
  }
 },
 "nbformat": 4,
 "nbformat_minor": 2
}
